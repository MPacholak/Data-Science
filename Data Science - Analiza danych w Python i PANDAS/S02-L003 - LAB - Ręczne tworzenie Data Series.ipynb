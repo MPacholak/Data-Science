{
 "cells": [
  {
   "cell_type": "markdown",
   "id": "e2255b0c",
   "metadata": {},
   "source": [
    "1. Zaimportuj moduły: pandas, numpy, matplotlib (tylko pyplot), math i nadaj im standardowe aliasy"
   ]
  },
  {
   "cell_type": "code",
   "execution_count": 5,
   "id": "00bff5ea",
   "metadata": {},
   "outputs": [],
   "source": [
    "import pandas as pd \n",
    "import numpy as np \n",
    "import matplotlib.pyplot as plt\n",
    "import math as math "
   ]
  },
  {
   "cell_type": "markdown",
   "id": "d160bdbd",
   "metadata": {},
   "source": [
    "2. Utwórz listę dni tygodnia i nazwij ją weekdays\n"
   ]
  },
  {
   "cell_type": "code",
   "execution_count": 6,
   "id": "e9bd0c88",
   "metadata": {},
   "outputs": [],
   "source": [
    "weekdays = [\"Pon\", \"Wt\", \"Śrd\", \"Czw\", \"Pt\", \"Sob\", \"Niedz\"]"
   ]
  },
  {
   "cell_type": "markdown",
   "id": "beee9a82",
   "metadata": {},
   "source": [
    "3. W oparciu o tą listę utwórz obiekt Data Series. Zapisz go w zmiennej weekdaysSeries i wyświetl tą zmienną."
   ]
  },
  {
   "cell_type": "code",
   "execution_count": 7,
   "id": "1b3b942c",
   "metadata": {},
   "outputs": [],
   "source": [
    "weekdaysSeries = pd.Series(weekdays)"
   ]
  },
  {
   "cell_type": "markdown",
   "id": "9c5c693b",
   "metadata": {},
   "source": [
    "4. Utwórz listę freeDays, która bedzie zawierała tyle samo elementów co lista weekdays. W kolejnych pozycjach\n",
    "tej listy zapisuj informację True/False oznaczającą, czy dany dzień tygodnia jest wolny czy nie."
   ]
  },
  {
   "cell_type": "code",
   "execution_count": 8,
   "id": "224d2961",
   "metadata": {},
   "outputs": [],
   "source": [
    "freeDays = [False, False, False, False, False, True, True]"
   ]
  },
  {
   "cell_type": "markdown",
   "id": "9e694e4b",
   "metadata": {},
   "source": [
    "5.W oparciu o listę freeDays utwórz obiekt Data Series. Zapisz go w zmiennej freeDaysSeries i wyświetl tą\n",
    "zmienną. Zwróć uwagę na typ listy"
   ]
  },
  {
   "cell_type": "code",
   "execution_count": 9,
   "id": "21959323",
   "metadata": {},
   "outputs": [
    {
     "data": {
      "text/plain": [
       "0    False\n",
       "1    False\n",
       "2    False\n",
       "3    False\n",
       "4    False\n",
       "5     True\n",
       "6     True\n",
       "dtype: bool"
      ]
     },
     "execution_count": 9,
     "metadata": {},
     "output_type": "execute_result"
    }
   ],
   "source": [
    "freeDaysSeries = pd.Series(freeDays)\n",
    "freeDaysSeries"
   ]
  },
  {
   "cell_type": "markdown",
   "id": "e012ec2b",
   "metadata": {},
   "source": [
    "6. Utwórz hash table (dictionary) o nazwie holidays, gdzie kluczem jest nazwa święta, a wartością data"
   ]
  },
  {
   "cell_type": "code",
   "execution_count": 11,
   "id": "7cc4af0e",
   "metadata": {},
   "outputs": [],
   "source": [
    "holidays = {\"New Year\" : \"2024-01-01\", \"Epiphany\" : \"2024-01-06\", \"Easter\" : \"2024-04-01\"}"
   ]
  },
  {
   "cell_type": "markdown",
   "id": "c5796ea5",
   "metadata": {},
   "source": [
    "7. W oparciu o hash table holidays utwórz Data Series i zapisz go w zmiennej holidaysSeries i wyświetl tą\n",
    "zmienną."
   ]
  },
  {
   "cell_type": "code",
   "execution_count": 13,
   "id": "f03ec586",
   "metadata": {},
   "outputs": [
    {
     "data": {
      "text/plain": [
       "New Year    2024-01-01\n",
       "Epiphany    2024-01-06\n",
       "Easter      2024-04-01\n",
       "dtype: object"
      ]
     },
     "execution_count": 13,
     "metadata": {},
     "output_type": "execute_result"
    }
   ],
   "source": [
    "holidaysSeries = pd.Series(holidays)\n",
    "holidaysSeries"
   ]
  },
  {
   "cell_type": "code",
   "execution_count": null,
   "id": "3e103209",
   "metadata": {},
   "outputs": [],
   "source": []
  }
 ],
 "metadata": {
  "kernelspec": {
   "display_name": "Python 3 (ipykernel)",
   "language": "python",
   "name": "python3"
  },
  "language_info": {
   "codemirror_mode": {
    "name": "ipython",
    "version": 3
   },
   "file_extension": ".py",
   "mimetype": "text/x-python",
   "name": "python",
   "nbconvert_exporter": "python",
   "pygments_lexer": "ipython3",
   "version": "3.9.7"
  }
 },
 "nbformat": 4,
 "nbformat_minor": 5
}
