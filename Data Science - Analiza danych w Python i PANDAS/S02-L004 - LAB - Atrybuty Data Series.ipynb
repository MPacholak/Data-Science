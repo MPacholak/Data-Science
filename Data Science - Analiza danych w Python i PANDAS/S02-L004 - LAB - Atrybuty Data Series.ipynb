{
 "cells": [
  {
   "cell_type": "markdown",
   "id": "5fc5dc37",
   "metadata": {},
   "source": [
    "1. Zaimportuj moduły: pandas, numpy, matplotlib (tylko pyplot), math i nadaj im standardowe aliasy"
   ]
  },
  {
   "cell_type": "code",
   "execution_count": 3,
   "id": "3fc7a0ea",
   "metadata": {},
   "outputs": [],
   "source": [
    "import pandas as pd \n",
    "import numpy as np \n",
    "import matplotlib.pyplot as plt\n",
    "import math as math "
   ]
  },
  {
   "cell_type": "markdown",
   "id": "5a30592f",
   "metadata": {},
   "source": [
    "2. Zaimportuj moduł random z aliasem rnd, a potem:\n",
    "- Zadeklaruj zmieną dataAsFloatList jako listę.\n",
    "- Napisz pętlę, która 100000 doda do listy element wyliczony wzorem i*rnd.random() gdzie i to kolejny\n",
    "  numer pętli\n",
    "- Następnie w oparciu o listę dataAsFloatList utwórz obiekt series i zapisz go w zmiennej\n",
    "  dataAsFloatSeries."
   ]
  },
  {
   "cell_type": "code",
   "execution_count": 13,
   "id": "035ffc51",
   "metadata": {},
   "outputs": [],
   "source": [
    "import random as rnd\n",
    "\n",
    "dataAsFloatList = []\n",
    "for i in range(100000):\n",
    "    dataAsFloatList.append(i*rnd.random())\n",
    "dataAsFloatSeries = pd.Series(dataAsFloatList)"
   ]
  },
  {
   "cell_type": "markdown",
   "id": "94c207bb",
   "metadata": {},
   "source": [
    "3. Wyświetl następujące atrybuty dataAsFloatSeries:\n",
    "- size\n",
    "- nbytes\n",
    "- shape\n",
    "- axes\n",
    "- dtype\n",
    "- index\n",
    "- is_unique\n",
    "- is_monotonic"
   ]
  },
  {
   "cell_type": "code",
   "execution_count": 14,
   "id": "2f5f47b2",
   "metadata": {},
   "outputs": [
    {
     "name": "stdout",
     "output_type": "stream",
     "text": [
      "size: \t 100000\n",
      "nbytes:\t 800000\n",
      "shape:\t (100000,)\n",
      "axes:\t [RangeIndex(start=0, stop=100000, step=1)]\n",
      "dtype:\t float64\n",
      "index:\t RangeIndex(start=0, stop=100000, step=1)\n",
      "unique:\t True\n",
      "monotonic:\t False\n"
     ]
    }
   ],
   "source": [
    "print('size: \\t',dataAsFloatSeries.size)\n",
    "print('nbytes:\\t',dataAsFloatSeries.nbytes)\n",
    "print('shape:\\t',dataAsFloatSeries.shape)\n",
    "print('axes:\\t',dataAsFloatSeries.axes)\n",
    "print('dtype:\\t',dataAsFloatSeries.dtype)\n",
    "print('index:\\t',dataAsFloatSeries.index)\n",
    "print('unique:\\t',dataAsFloatSeries.is_unique)\n",
    "print('monotonic:\\t',dataAsFloatSeries.is_monotonic)"
   ]
  },
  {
   "cell_type": "markdown",
   "id": "d567f9e2",
   "metadata": {},
   "source": [
    "4. Powtórz kroki z punktu (2) z drobnymi zmianami:\n",
    "- Zadeklaruj zmieną dataAsStringList jako listę.\n",
    "- Napisz pętlę, która 100000 doda do listy element wyliczony wzorem str(i*rnd.random()) gdzie i to kolejny\n",
    "  numer pętli\n",
    "- Następnie w oparciu o listę dataAsStringList utwórz obiekt series i zapisz go w zmiennej\n",
    "    dataAsStringSeries"
   ]
  },
  {
   "cell_type": "code",
   "execution_count": 15,
   "id": "c6c0bbda",
   "metadata": {},
   "outputs": [],
   "source": [
    "dataAsStringList = []\n",
    "\n",
    "for i in range(100000):\n",
    "    dataAsStringList.append(str(i*rnd.random()))\n",
    "dataAsStringSeries = pd.Series(dataAsStringList)"
   ]
  },
  {
   "cell_type": "markdown",
   "id": "7947572c",
   "metadata": {},
   "source": [
    "5. Podobnie jak poprzednio wyświetl atrybuty dataAsStringSeries:\n",
    "- size\n",
    "- nbytes\n",
    "- dtype\n"
   ]
  },
  {
   "cell_type": "code",
   "execution_count": 16,
   "id": "5a01b98c",
   "metadata": {},
   "outputs": [
    {
     "name": "stdout",
     "output_type": "stream",
     "text": [
      "size: \t 100000\n",
      "nbytes:\t 800000\n",
      "dtype:\t object\n"
     ]
    }
   ],
   "source": [
    "print('size: \\t',dataAsStringSeries.size)\n",
    "print('nbytes:\\t',dataAsStringSeries.nbytes)\n",
    "print('dtype:\\t',dataAsStringSeries.dtype)"
   ]
  },
  {
   "cell_type": "markdown",
   "id": "f7b88cf6",
   "metadata": {},
   "source": [
    "6. Czy Twoim zdaniem nbytes dla obu obiektów Data Series powinny być takie same czy inne? A jakie są?"
   ]
  },
  {
   "cell_type": "code",
   "execution_count": 17,
   "id": "cfed8bad",
   "metadata": {},
   "outputs": [
    {
     "data": {
      "text/plain": [
       "800128"
      ]
     },
     "execution_count": 17,
     "metadata": {},
     "output_type": "execute_result"
    }
   ],
   "source": [
    "dataAsFloatSeries.memory_usage(deep=True)"
   ]
  },
  {
   "cell_type": "markdown",
   "id": "19049e3d",
   "metadata": {},
   "source": [
    "7. Wyjaśnienie dla punktu (6). Atrybut nbytes \"szacuje zajętość pamięci bardzo z grubsza\". Ta metoda jest\n",
    "szybka ale niedokładna. J"
   ]
  },
  {
   "cell_type": "code",
   "execution_count": 18,
   "id": "f3d47b72",
   "metadata": {},
   "outputs": [
    {
     "data": {
      "text/plain": [
       "7434858"
      ]
     },
     "execution_count": 18,
     "metadata": {},
     "output_type": "execute_result"
    }
   ],
   "source": [
    "dataAsStringSeries.memory_usage(deep=True)"
   ]
  },
  {
   "cell_type": "code",
   "execution_count": null,
   "id": "482fcbd7",
   "metadata": {},
   "outputs": [],
   "source": []
  }
 ],
 "metadata": {
  "kernelspec": {
   "display_name": "Python 3 (ipykernel)",
   "language": "python",
   "name": "python3"
  },
  "language_info": {
   "codemirror_mode": {
    "name": "ipython",
    "version": 3
   },
   "file_extension": ".py",
   "mimetype": "text/x-python",
   "name": "python",
   "nbconvert_exporter": "python",
   "pygments_lexer": "ipython3",
   "version": "3.9.7"
  }
 },
 "nbformat": 4,
 "nbformat_minor": 5
}
